{
 "cells": [
  {
   "cell_type": "markdown",
   "metadata": {},
   "source": [
    "# Loot hunting #\n",
    "\n",
    "You are given a link to a [single document](http://sprotasov.ru/files/AIR/a.html) on a website. This document has some internal and external links, references, forms, iframes. Crawl the website starting at the entry point and obtain the loot. Loot is given in a form of a string:\n",
    "```\n",
    "LOOT:something\\n\n",
    "```\n",
    "Find `something` and report to the instructor.\n",
    "Measure your crawling time."
   ]
  },
  {
   "cell_type": "code",
   "execution_count": 8,
   "metadata": {},
   "outputs": [
    {
     "name": "stdout",
     "output_type": "stream",
     "text": [
      "Time: 0.000\n",
      "You are done! Great!\n"
     ]
    }
   ],
   "source": [
    "import time\n",
    "import hashlib\n",
    "\n",
    "url = 'http://sprotasov.ru/files/AIR/a.html'\n",
    "loot = ''\n",
    "\n",
    "start = time.time()\n",
    "\n",
    "## DO YOUR JOB HERE\n",
    "\n",
    "end = time.time()\n",
    "\n",
    "print(f\"Time: {end - start:.3f}\")\n",
    "\n",
    "result_hash = hashlib.md5(bytes(loot, encoding='utf8')).hexdigest()\n",
    "assert result_hash == \"ebbf372b0e01ca0ce146928b1eb9aea6\", \"Loot is incorrect\"\n",
    "print(\"You are done! Great!\")"
   ]
  },
  {
   "cell_type": "markdown",
   "source": [
    "You can use the template above for a local testing. For the codetest your output should contains only the loot."
   ],
   "metadata": {
    "collapsed": false
   }
  },
  {
   "cell_type": "code",
   "execution_count": null,
   "outputs": [],
   "source": [
    "with open('input.txt', 'r') as fin:\n",
    "    url = fin.read()\n",
    "\n",
    "loot = 'some random text'\n",
    "\n",
    "## DO YOUR JOB HERE\n",
    "\n",
    "with open('output.txt', 'w') as fout:\n",
    "    fout.write(loot)"
   ],
   "metadata": {
    "collapsed": false,
    "pycharm": {
     "name": "#%%\n"
    }
   }
  }
 ],
 "metadata": {
  "kernelspec": {
   "display_name": "Python 3",
   "language": "python",
   "name": "python3"
  },
  "language_info": {
   "codemirror_mode": {
    "name": "ipython",
    "version": 3
   },
   "file_extension": ".py",
   "mimetype": "text/x-python",
   "name": "python",
   "nbconvert_exporter": "python",
   "pygments_lexer": "ipython3",
   "version": "3.8.3"
  }
 },
 "nbformat": 4,
 "nbformat_minor": 4
}