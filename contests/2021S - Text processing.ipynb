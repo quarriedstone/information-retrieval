{
 "cells": [
  {
   "cell_type": "markdown",
   "metadata": {},
   "source": [
    "## Wildcards and typos\n",
    "\n",
    "For a predefined (small) [vocabulary](../datasets/small-dict.txt), which you can download or even hardcode in the solution, you should be able to solve 2 types of problems:\n",
    "1. Retrieve all words, matching a given **wildcard**.\n",
    "2. Retrieve the best suggestion for **typo** fix.\n",
    "\n",
    "To know, how to do this, you can adress the book, lecture slides and homework statement.\n",
    "\n",
    "### input\n",
    "\n",
    "You will be given a file `input.txt` with 2 lines. The first will have the type of action (`wildcard` or `typo`), the second will store input data. Like this:\n",
    "```\n",
    "typo\n",
    "anemal\n",
    "```\n",
    "or \n",
    "```\n",
    "wildcard\n",
    "a*al\n",
    "```\n",
    "\n",
    "### output\n",
    "\n",
    "Print result into a `output.txt` file. \n",
    "- _Wildcard_ can return multiple results, so print them in alphabetic order, one per line. Like this:\n",
    "\n",
    "```\n",
    "analitical\n",
    "animal\n",
    "annual\n",
    "```\n",
    "\n",
    "- _Typo_ fix should return the single best match (there will be always ot least one good match).\n",
    "\n",
    "### prohibited things\n",
    "- Regular expressions (`import re` in particular).\n",
    "- testing wildcards with `part` **in** `word`."
   ]
  },
  {
   "cell_type": "code",
   "execution_count": 4,
   "metadata": {},
   "outputs": [
    {
     "ename": "Exception",
     "evalue": "^a*da$",
     "output_type": "error",
     "traceback": [
      "\u001b[0;31m---------------------------------------------------------------------------\u001b[0m",
      "\u001b[0;31mException\u001b[0m                                 Traceback (most recent call last)",
      "\u001b[0;32m<ipython-input-4-aae34fdc17b8>\u001b[0m in \u001b[0;36m<module>\u001b[0;34m\u001b[0m\n\u001b[1;32m    164\u001b[0m             \u001b[0;32mfor\u001b[0m \u001b[0mc\u001b[0m \u001b[0;32min\u001b[0m \u001b[0mcandidates\u001b[0m\u001b[0;34m:\u001b[0m\u001b[0;34m\u001b[0m\u001b[0;34m\u001b[0m\u001b[0m\n\u001b[1;32m    165\u001b[0m                 \u001b[0mfo\u001b[0m\u001b[0;34m.\u001b[0m\u001b[0mwrite\u001b[0m\u001b[0;34m(\u001b[0m\u001b[0mc\u001b[0m \u001b[0;34m+\u001b[0m \u001b[0;34m\"\\n\"\u001b[0m\u001b[0;34m)\u001b[0m\u001b[0;34m\u001b[0m\u001b[0;34m\u001b[0m\u001b[0m\n\u001b[0;32m--> 166\u001b[0;31m         \u001b[0;32mraise\u001b[0m \u001b[0mException\u001b[0m\u001b[0;34m(\u001b[0m\u001b[0mdata\u001b[0m\u001b[0;34m)\u001b[0m\u001b[0;34m\u001b[0m\u001b[0;34m\u001b[0m\u001b[0m\n\u001b[0m",
      "\u001b[0;31mException\u001b[0m: ^a*da$"
     ]
    }
   ],
   "source": [
    "import requests\n",
    "from collections import Counter, defaultdict\n",
    "\n",
    "#words = requests.get('https://raw.githubusercontent.com/IUCVLab/information-retrieval/main/datasets/small-dict.txt').text.split()\n",
    "words = ['caterpillar', 'alligator', 'crocodile', 'groundhog', 'elephant', 'cheetah', 'butterfly', 'anaconda', 'wolverine', 'wolf', 'firefox', 'badger', 'buffalo', 'cassowary', 'chinchilla', 'chimpanzee', 'flamingo', 'grasshopper', 'hummingbird', 'penguin', 'bluebird']\n",
    "class SpellingCorrector:\n",
    "    def __init__(self, words, \n",
    "                 edit1coeff=1e-3, edit2coeff=1e-6, \n",
    "                 absent_word_p=1e-4, absent_pair_p=1e-8, \n",
    "                 elim_coeff=2, cand_elim_coeff=None):\n",
    "        self.words = words\n",
    "        self.e1k = edit1coeff\n",
    "        self.e2k = edit2coeff\n",
    "        self.awp = absent_word_p\n",
    "        self.app = absent_pair_p\n",
    "        self.EK = elim_coeff\n",
    "        self.CEK = cand_elim_coeff\n",
    "        self.N = len(words)\n",
    "        self.probs = dict()\n",
    "\n",
    "    def known(self, words):\n",
    "        # The subset of `words` that appear in the dictionary of WORDS.\n",
    "        return set(w for w in words if w in self.words)\n",
    "\n",
    "    def edits1(self, word):\n",
    "        # All edits that are one edit away from `word`.\n",
    "        letters = 'abcdefghijklmnopqrstuvwxyz'\n",
    "        splits = [(word[:i], word[i:]) for i in range(len(word) + 1)]\n",
    "        deletes = [L + R[1:] for L, R in splits if R]\n",
    "        transposes = [L + R[1] + R[0] + R[2:] for L, R in splits if len(R) > 1]\n",
    "        replaces = [L + c + R[1:] for L, R in splits if R for c in letters]\n",
    "        inserts = [L + c + R for L, R in splits for c in letters]\n",
    "        return set(deletes + transposes + replaces + inserts)\n",
    "\n",
    "    def edits2(self, word):\n",
    "        # All edits that are two edits away from `word`.\n",
    "        return (e2 for e1 in self.edits1(word) for e2 in self.edits1(e1))\n",
    "\n",
    "    def candidates(self, word):\n",
    "        # Generate possible spelling corrections for `word` \n",
    "        # with their probabilities.\n",
    "        result = []\n",
    "        if len(self.known([word])) > 0:\n",
    "            result += [(word, 1)]\n",
    "        \n",
    "        t = self.known(self.edits1(word))\n",
    "        if len(t) > 0:\n",
    "            result += [(ti, self.e1k) for ti in t]\n",
    "        \n",
    "        t = self.known(self.edits2(word))\n",
    "        if len(t) > 0:\n",
    "            result += [(ti, self.e2k) for ti in t]\n",
    "        \n",
    "        if len(result) == 0:\n",
    "            result = [(word, 1)]\n",
    "        elif self.CEK is not None:\n",
    "            result = sorted(result, key=self.word_p, reverse=True)[:self.CEK]\n",
    "        return result\n",
    "\n",
    "    def word_p(self, word):\n",
    "        # return `word` probability\n",
    "        return 1 / self.N if word in self.words else self.awp\n",
    "\n",
    "    def pair_p(self, pair):\n",
    "        # return `pair` probability\n",
    "        return PAIRS[pair] / self.M if pair in self.pairs else self.app\n",
    "\n",
    "    def P(self, query):\n",
    "        # Probability of `query`.\n",
    "        result = 1\n",
    "        \n",
    "        # check if the part of the query is cached\n",
    "        tmp = self.unpack(query[:-1])\n",
    "        if len(query) > 1 and tmp in self.probs:\n",
    "            w, p = query[-1]\n",
    "            wl, _ = query[-2]\n",
    "            r = self.probs[tmp]\n",
    "            return r * self.pair_p(wl + ' ' + w) * self.word_p(w) * p\n",
    "        \n",
    "        wl = \"\"\n",
    "        for w, p in query:\n",
    "            if wl == \"\":\n",
    "                result *= self.word_p(w) * p\n",
    "            else:\n",
    "                result *= self.pair_p(wl + ' ' + w) * self.word_p(w) * p\n",
    "            wl = w\n",
    "        return result\n",
    "\n",
    "    def unpack(self, arr):\n",
    "        # convert a list of word-prob tuples to a string\n",
    "        return \" \".join([w for (w, _) in arr])\n",
    "\n",
    "    def eliminate(self, arr):\n",
    "        # return `n` most probable distinct sequences\n",
    "        arr = sorted(arr, key=self.P, reverse=True)\n",
    "        \n",
    "        i = 0\n",
    "        result = []\n",
    "        tmp = set()\n",
    "        while len(result) < self.EK and i < len(arr):\n",
    "            t = self.unpack(arr[i])\n",
    "            if t not in tmp:\n",
    "                result += [arr[i]]\n",
    "                tmp.add(t)\n",
    "            i += 1\n",
    "        \n",
    "        # cache the probabilities\n",
    "        probs = dict()\n",
    "        for x in result:\n",
    "            probs[self.unpack(x)] = self.P(x)\n",
    "        self.probs = probs\n",
    "        return result\n",
    "\n",
    "    def print_arr(self, arr):\n",
    "        # debug print most probable variants\n",
    "        print(\"-----\")\n",
    "        for t in arr:\n",
    "            print(\" \".join([w for w, _ in t]), \":\", self.P(t))\n",
    "        print(\"-----\")\n",
    "\n",
    "    def correct(self, query, debug=False):\n",
    "        # Most probable spelling correction for query.\n",
    "        tmp = []\n",
    "        result = []\n",
    "        probs = dict()\n",
    "        for w in query.strip().lower().split():\n",
    "            tmp = result\n",
    "            if len(tmp) == 0:\n",
    "                result = [[c] for c in self.candidates(w)]\n",
    "            else:\n",
    "                result = []\n",
    "                for t in tmp:\n",
    "                    result.extend([t + [c] for c in self.candidates(w)])\n",
    "            result = self.eliminate(result)\n",
    "        if debug:\n",
    "            self.print_arr(result)\n",
    "        return self.unpack(max(result, key=self.P))\n",
    "\n",
    "\n",
    "with open('input.txt', 'r') as f:\n",
    "    action = f.readline().strip()\n",
    "    data = f.readline().strip()\n",
    "    sp = SpellingCorrector(words=words)\n",
    "    if 'typo' == action:\n",
    "        with open(\"output.txt\", \"w\") as fo:\n",
    "            fo.write(sp.correct(data))\n",
    "    elif 'wildcard' == action:\n",
    "        index = defaultdict(list)\n",
    "        for w in words:\n",
    "            word = \"^{}$\".format(w)\n",
    "            for i in range(len(word)):\n",
    "                gram = word[i:i+1]\n",
    "                index[gram].append(w)\n",
    "            for i in range(len(word) - 1):\n",
    "                gram = word[i:i+2]\n",
    "                index[gram].append(w)\n",
    "            for i in range(len(word) - 2):\n",
    "                gram = word[i:i+3]\n",
    "                index[gram].append(w)\n",
    "        \n",
    "        data = \"^{}$\".format(data)\n",
    "        patterns = data.split(\"*\")\n",
    "        candidates = set(words.copy())\n",
    "        for pattern in patterns:\n",
    "            for i in range(len(pattern) - 1):\n",
    "                temp = index.get(pattern[i:i+2], [])\n",
    "                candidates = candidates.intersection(temp)\n",
    "            for i in range(len(pattern) - 2):\n",
    "                temp = index.get(pattern[i:i+3], [])\n",
    "                candidates = candidates.intersection(temp)\n",
    "            for i in range(len(pattern)):\n",
    "                temp = index.get(pattern[i:i+1], [])\n",
    "                candidates = candidates.intersection(temp)\n",
    "        candidates = sorted(candidates)\n",
    "        with open(\"output.txt\", \"w\") as fo:\n",
    "            for c in candidates:\n",
    "                fo.write(c + \"\\n\")\n",
    "        raise Exception(data)"
   ]
  },
  {
   "cell_type": "code",
   "execution_count": 7,
   "metadata": {},
   "outputs": [
    {
     "name": "stdout",
     "output_type": "stream",
     "text": [
      "['alligator', 'anaconda', 'badger', 'bluebird', 'buffalo', 'butterfly', 'cassowary', 'caterpillar', 'cheetah', 'chimpanzee', 'chinchilla', 'crocodile', 'elephant', 'firefox', 'flamingo', 'grasshopper', 'groundhog', 'hummingbird', 'penguin', 'wolf', 'wolverine']\n"
     ]
    }
   ],
   "source": [
    "print(sorted(words))"
   ]
  },
  {
   "cell_type": "code",
   "execution_count": 21,
   "metadata": {},
   "outputs": [],
   "source": [
    "data = \"^*ing*$\"\n",
    "\n"
   ]
  },
  {
   "cell_type": "code",
   "execution_count": null,
   "metadata": {},
   "outputs": [],
   "source": []
  },
  {
   "cell_type": "code",
   "execution_count": 28,
   "metadata": {},
   "outputs": [],
   "source": [
    "data = \"^*l*r$\""
   ]
  },
  {
   "cell_type": "code",
   "execution_count": 30,
   "metadata": {},
   "outputs": [],
   "source": [
    "data = \"^ch*e*$\""
   ]
  },
  {
   "cell_type": "code",
   "execution_count": 31,
   "metadata": {},
   "outputs": [
    {
     "name": "stdout",
     "output_type": "stream",
     "text": [
      "['cheetah', 'chimpanzee']\n"
     ]
    }
   ],
   "source": [
    "index = defaultdict(list)\n",
    "for w in words:\n",
    "    word = \"^{}$\".format(w)\n",
    "    for i in range(len(word)):\n",
    "        gram = word[i:i+1]\n",
    "        index[gram].append(w)\n",
    "    for i in range(len(word) - 1):\n",
    "        gram = word[i:i+2]\n",
    "        index[gram].append(w)\n",
    "    for i in range(len(word) - 2):\n",
    "        gram = word[i:i+3]\n",
    "        index[gram].append(w)\n",
    "        \n",
    "data = \"^{}$\".format(data)\n",
    "patterns = data.split(\"*\")\n",
    "candidates = set(words.copy())\n",
    "for pattern in patterns:\n",
    "    for i in range(len(pattern) - 1):\n",
    "        temp = index.get(pattern[i:i+2], [])\n",
    "        candidates = candidates.intersection(temp)\n",
    "    for i in range(len(pattern) - 2):\n",
    "        temp = index.get(pattern[i:i+3], [])\n",
    "        candidates = candidates.intersection(temp)\n",
    "    for i in range(len(pattern)):\n",
    "        temp = index.get(pattern[i:i+1], [])\n",
    "        candidates = candidates.intersection(temp)\n",
    "candidates = sorted(candidates)\n",
    "print(candidates)"
   ]
  },
  {
   "cell_type": "code",
   "execution_count": 26,
   "metadata": {},
   "outputs": [
    {
     "data": {
      "text/plain": [
       "['^', 'l', 'r$']"
      ]
     },
     "execution_count": 26,
     "metadata": {},
     "output_type": "execute_result"
    }
   ],
   "source": [
    "patterns"
   ]
  },
  {
   "cell_type": "code",
   "execution_count": 32,
   "metadata": {},
   "outputs": [
    {
     "name": "stdout",
     "output_type": "stream",
     "text": [
      "['caterpillar', 'alligator', 'crocodile', 'groundhog', 'elephant', 'cheetah', 'butterfly', 'anaconda', 'wolverine', 'wolf', 'firefox', 'badger', 'buffalo', 'cassowary', 'chinchilla', 'chimpanzee', 'flamingo', 'grasshopper', 'hummingbird', 'penguin', 'bluebird']\n"
     ]
    }
   ],
   "source": [
    "print(words)"
   ]
  },
  {
   "cell_type": "code",
   "execution_count": null,
   "metadata": {},
   "outputs": [],
   "source": []
  }
 ],
 "metadata": {
  "kernelspec": {
   "display_name": "Python 3",
   "language": "python",
   "name": "python3"
  },
  "language_info": {
   "codemirror_mode": {
    "name": "ipython",
    "version": 3
   },
   "file_extension": ".py",
   "mimetype": "text/x-python",
   "name": "python",
   "nbconvert_exporter": "python",
   "pygments_lexer": "ipython3",
   "version": "3.8.5"
  }
 },
 "nbformat": 4,
 "nbformat_minor": 4
}
