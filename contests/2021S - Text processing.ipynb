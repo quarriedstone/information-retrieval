{
 "cells": [
  {
   "cell_type": "markdown",
   "metadata": {},
   "source": [
    "## Wildcards and typos\n",
    "\n",
    "For a predefined (small) [vocabulary](../datasets/small-dict.txt), which you can download or even hardcode in the solution, you should be able to solve 2 types of problems:\n",
    "1. Retrieve all words, matching a given **wildcard**.\n",
    "2. Retrieve the best suggestion for **typo** fix.\n",
    "\n",
    "To know, how to do this, you can adress the book, lecture slides and homework statement.\n",
    "\n",
    "### input\n",
    "\n",
    "You will be given a file `input.txt` with 2 lines. The first will have the type of action (`wildcard` or `typo`), the second will store input data. Like this:\n",
    "```\n",
    "typo\n",
    "anemal\n",
    "```\n",
    "or \n",
    "```\n",
    "wildcard\n",
    "a*al\n",
    "```\n",
    "\n",
    "### output\n",
    "\n",
    "Print result into a `output.txt` file. \n",
    "- _Wildcard_ can return multiple results, so print them in alphabetic order, one per line. Like this:\n",
    "\n",
    "```\n",
    "analitical\n",
    "animal\n",
    "annual\n",
    "```\n",
    "\n",
    "- _Typo_ fix should return the single best match (there will be always ot least one good match).\n",
    "\n",
    "### prohibited things\n",
    "- Regular expressions (`import re` in particular).\n",
    "- testing wildcards with `part` **in** `word`."
   ]
  },
  {
   "cell_type": "code",
   "execution_count": null,
   "metadata": {},
   "outputs": [],
   "source": [
    "import requests\n",
    "\n",
    "dictionary = requests.get('https://raw.githubusercontent.com/IUCVLab/information-retrieval/main/datasets/small-dict.txt').text.split()\n",
    "\n",
    "with open('input.txt', 'r') as f:\n",
    "    action = f.readline().trim()\n",
    "    data = f.readline().trim()\n",
    "    if 'typo' == action:\n",
    "        pass\n",
    "    elif 'wildcard' == action:\n",
    "        pass"
   ]
  }
 ],
 "metadata": {
  "kernelspec": {
   "display_name": "Python 3",
   "language": "python",
   "name": "python3"
  },
  "language_info": {
   "codemirror_mode": {
    "name": "ipython",
    "version": 3
   },
   "file_extension": ".py",
   "mimetype": "text/x-python",
   "name": "python",
   "nbconvert_exporter": "python",
   "pygments_lexer": "ipython3",
   "version": "3.8.3"
  }
 },
 "nbformat": 4,
 "nbformat_minor": 4
}
