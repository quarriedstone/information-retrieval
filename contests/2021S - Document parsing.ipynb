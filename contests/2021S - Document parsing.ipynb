{
 "cells": [
  {
   "cell_type": "markdown",
   "metadata": {},
   "source": [
    "# Loot hunting in some upredictable environment"
   ]
  },
  {
   "cell_type": "markdown",
   "metadata": {},
   "source": [
    "Format of the loot is the same:\n",
    "\n",
    "```\n",
    "LOOT:something\\n\n",
    "```\n",
    "\n",
    "Loot is hidden in 7 documents in web given by URL. Extensions of these files are `txt, jpg, pdf, docx, html, wav`. **Content of loot is English letters only, no numbers, spaces, spec.characters.**\n",
    "\n",
    "In all documents, except audiofiles, format is preserved as shown with (maybe) space padding in the end. Audiofile just contains a single word.\n",
    "\n",
    "Input file gives you a direct link to the document. Print loot values to the output file."
   ]
  },
  {
   "cell_type": "markdown",
   "metadata": {},
   "source": [
    "## Codetest server opportunuties\n",
    "\n",
    "- Codetest has `requests` library to download the data.\n",
    "- Codetest has `textract` [library](https://textract.readthedocs.io/en/stable/). It will definitely work (somehow) for pdf and images. It can (and will) fail for speech and docx. But!\n",
    "- Codetest has `docx2python` [library](https://pypi.org/project/docx2python/).\n",
    "- Codetest has `speech_recognition` [installed](https://pypi.org/project/SpeechRecognition/). This snippet will work in your code:\n",
    "\n",
    "```\n",
    "import speech_recognition as sr\n",
    "r = sr.Recognizer()\n",
    "with sr.AudioFile('x.wav') as s:\n",
    "    r.recognize_sphinx(r.record(s))\n",
    "```\n",
    "\n",
    "- ... but it will give a wrong result for test :). Please, think how you can overcome this.\n",
    "- FireFox is installed, driver is downloaded, `selenium` is (must be) working with no additional tuning. I **BEG** you, please destroy instances of browsers.\n",
    "```\n",
    "from selenium import webdriver\n",
    "x = webdriver.Firefox()\n",
    "...\n",
    "x.quit()  # <---- like this\n",
    "```"
   ]
  },
  {
   "cell_type": "code",
   "execution_count": 38,
   "metadata": {},
   "outputs": [
    {
     "name": "stdout",
     "output_type": "stream",
     "text": [
      "{'result': ''}\n"
     ]
    }
   ],
   "source": [
    "import urllib.request\n",
    "import json\n",
    "\n",
    "FOLDER_ID = \"b1gol0mcr3b9pq2p9fth\" # Идентификатор каталога\n",
    "IAM_TOKEN = \"t1.9euelZqaz5vJnoyRzp2Nzc-bxpCLyu3rnpWampGUyZOXzsuWkZXImJCPmY7l8_cyLjR_-e8fZ1de_t3z93JcMX_57x9nV17-.p941lTg6fQTeA2dp6CqwpBWVgheBh9Ad9NCxVcx8fFPGnDDWKtlk83Uvibpg5xfuR2SRH9QorWJVkqKPg7m8BQ\" # IAM-токен\n",
    "\n",
    "with open(\"6.wav\", \"rb\") as f:\n",
    "    f.read(44)\n",
    "    data = f.read()\n",
    "    \n",
    "params = \"&\".join([\n",
    "    \"topic=general\",\n",
    "    \"folderId=%s\" % FOLDER_ID,\n",
    "    \"lang=en-US\",\n",
    "    \"format=lpcm\",\n",
    "    \"sampleRateHertz=8000\"\n",
    "])\n",
    "\n",
    "\n",
    "request = \"https://stt.api.cloud.yandex.net/speech/v1/stt:recognize?%s\" % params\n",
    "\n",
    "url = urllib.request.Request(request, data=data)\n",
    "url.add_header(\"Authorization\", \"Bearer %s\" % IAM_TOKEN)\n",
    "\n",
    "responseData = urllib.request.urlopen(url).read().decode('UTF-8')\n",
    "decodedData = json.loads(responseData)\n",
    "\n",
    "print(decodedData)"
   ]
  },
  {
   "cell_type": "code",
   "execution_count": 40,
   "metadata": {},
   "outputs": [],
   "source": [
    "import speech_recognition as sr\n",
    "\n",
    "AUDIO_FILE = \"6.wav\"\n",
    "\n",
    "r = sr.Recognizer()\n",
    "with sr.AudioFile(AUDIO_FILE) as source:\n",
    "    audio = r.record(source)"
   ]
  },
  {
   "cell_type": "code",
   "execution_count": 37,
   "metadata": {},
   "outputs": [
    {
     "name": "stdout",
     "output_type": "stream",
     "text": [
      "Google Speech Recognition could not understand audio\n"
     ]
    }
   ],
   "source": [
    "# recognize speech using Google Speech Recognition\n",
    "try:\n",
    "    # for testing purposes, we're just using the default API key\n",
    "    # to use another API key, use `r.recognize_google(audio, key=\"GOOGLE_SPEECH_RECOGNITION_API_KEY\")`\n",
    "    # instead of `r.recognize_google(audio)`\n",
    "    print(\"Google Speech Recognition thinks you said \" + r.recognize_google(audio))\n",
    "except sr.UnknownValueError:\n",
    "    print(\"Google Speech Recognition could not understand audio\")\n",
    "except sr.RequestError as e:\n",
    "    print(\"Could not request results from Google Speech Recognition service; {0}\".format(e))"
   ]
  },
  {
   "cell_type": "code",
   "execution_count": 41,
   "metadata": {},
   "outputs": [
    {
     "name": "stdout",
     "output_type": "stream",
     "text": [
      "Wit.ai thinks you said crocodiles\n"
     ]
    }
   ],
   "source": [
    "WIT_AI_KEY = \"FUEEMN4ZU7VIYBT5B6JVZMYYBJBIJWVV\"  # Wit.ai keys are 32-character uppercase alphanumeric strings\n",
    "try:\n",
    "    print(\"Wit.ai thinks you said \" + r.recognize_wit(audio, key=WIT_AI_KEY))\n",
    "except sr.UnknownValueError:\n",
    "    print(\"Wit.ai could not understand audio\")\n",
    "except sr.RequestError as e:\n",
    "    print(\"Could not request results from Wit.ai service; {0}\".format(e))"
   ]
  },
  {
   "cell_type": "code",
   "execution_count": null,
   "metadata": {},
   "outputs": [],
   "source": []
  }
 ],
 "metadata": {
  "kernelspec": {
   "display_name": "Python 3",
   "language": "python",
   "name": "python3"
  },
  "language_info": {
   "codemirror_mode": {
    "name": "ipython",
    "version": 3
   },
   "file_extension": ".py",
   "mimetype": "text/x-python",
   "name": "python",
   "nbconvert_exporter": "python",
   "pygments_lexer": "ipython3",
   "version": "3.8.3"
  }
 },
 "nbformat": 4,
 "nbformat_minor": 4
}
