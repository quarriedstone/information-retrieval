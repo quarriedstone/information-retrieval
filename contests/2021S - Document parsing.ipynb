{
 "cells": [
  {
   "cell_type": "markdown",
   "metadata": {},
   "source": [
    "# Loot hunting in some upredictable environment"
   ]
  },
  {
   "cell_type": "markdown",
   "metadata": {},
   "source": [
    "Format of the loot is the same:\n",
    "\n",
    "```\n",
    "LOOT:something\\n\n",
    "```\n",
    "\n",
    "Loot is hidden in 7 documents in web given by URL. Extensions of these files are `txt, jpg, pdf, docx, html, wav`. **Content of loot is English letters only, to numbers, spaces, spec.characters.**\n",
    "\n",
    "In all documents, expect audiofiles, format is preserved as shown with (maybe) space padding in the end. Audiofile just contains a single word.\n",
    "\n",
    "Input file gives you a direct link to the document. Print loot values to the output file."
   ]
  },
  {
   "cell_type": "markdown",
   "metadata": {},
   "source": [
    "## Codetest server opportunuties\n",
    "\n",
    "- Codetest has `requests` library to download the data.\n",
    "- Codetest has `textract` [library](https://textract.readthedocs.io/en/stable/). It will definitely work (somehow) for pdf and images. It can (and will) fail for speech and docx. But!\n",
    "- Codetest has `docx2python` [library](https://pypi.org/project/docx2python/).\n",
    "- Codetest has `speech_recognition` [installed](https://pypi.org/project/SpeechRecognition/). This snippet will work in your code:\n",
    "\n",
    "```\n",
    "import speech_recognition as sr\n",
    "r = sr.Recognizer()\n",
    "with sr.AudioFile('x.wav') as s:\n",
    "    r.recognize_sphinx(r.record(s))\n",
    "```\n",
    "\n",
    "- ... but it will give a wrong result for test :). Please, think how you can overcome this.\n",
    "- FireFox is installed, driver is downloaded, `selenium` is (must be) working with no additional tuning. I **BEG** you, please destroy instances of browsers.\n",
    "```\n",
    "from selenium import webdriver\n",
    "x = webdriver.Firefox()\n",
    "...\n",
    "x.quit()  # <---- like this\n",
    "```"
   ]
  }
 ],
 "metadata": {
  "kernelspec": {
   "display_name": "Python 3",
   "language": "python",
   "name": "python3"
  },
  "language_info": {
   "codemirror_mode": {
    "name": "ipython",
    "version": 3
   },
   "file_extension": ".py",
   "mimetype": "text/x-python",
   "name": "python",
   "nbconvert_exporter": "python",
   "pygments_lexer": "ipython3",
   "version": "3.8.3"
  }
 },
 "nbformat": 4,
 "nbformat_minor": 4
}
