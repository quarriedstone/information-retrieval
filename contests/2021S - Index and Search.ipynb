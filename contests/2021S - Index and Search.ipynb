{
 "cells": [
  {
   "cell_type": "markdown",
   "metadata": {},
   "source": [
    "# Prepare, index, then search\n",
    "\n",
    "## 1. Data generation\n",
    "\n",
    "Use this code in your solutions to generate the dataset."
   ]
  },
  {
   "cell_type": "code",
   "execution_count": 1,
   "metadata": {},
   "outputs": [
    {
     "name": "stdout",
     "output_type": "stream",
     "text": [
      "CPU times: user 116 ms, sys: 8.28 ms, total: 124 ms\n",
      "Wall time: 122 ms\n"
     ]
    }
   ],
   "source": [
    "%%time\n",
    "def build(N, D):\n",
    "    dataset = [None] * N\n",
    "    for i in range(N):\n",
    "        dataset[i] = [((i % 9997 - d) + (i * d - d)) % 9999 for d in range(D)]\n",
    "        dataset[i] = tuple(dataset[i])\n",
    "    return dataset\n",
    "DATASET = build(100000, 3)"
   ]
  },
  {
   "cell_type": "markdown",
   "metadata": {},
   "source": [
    "Here we check they are unique."
   ]
  },
  {
   "cell_type": "code",
   "execution_count": 2,
   "metadata": {},
   "outputs": [
    {
     "data": {
      "text/plain": [
       "[((0, 9997, 9995), 1),\n",
       " ((1, 0, 9998), 1),\n",
       " ((2, 2, 2), 1),\n",
       " ((3, 4, 5), 1),\n",
       " ((4, 6, 8), 1),\n",
       " ((5, 8, 11), 1),\n",
       " ((6, 10, 14), 1),\n",
       " ((7, 12, 17), 1),\n",
       " ((8, 14, 20), 1),\n",
       " ((9, 16, 23), 1)]"
      ]
     },
     "execution_count": 2,
     "metadata": {},
     "output_type": "execute_result"
    }
   ],
   "source": [
    "from collections import Counter\n",
    "Counter(DATASET).most_common(10)"
   ]
  },
  {
   "cell_type": "markdown",
   "metadata": {},
   "source": [
    "## 2. Search with indexing\n",
    "\n",
    "Implement search using the following techniques of indexing.\n",
    "- [Annoy](https://github.com/spotify/annoy). Build 5+ trees (take more if 5 is not enough) with Euclidean distance.\n",
    "- Scipy [kd-tree](https://docs.scipy.org/doc/scipy/reference/generated/scipy.spatial.KDTree.html) implementation. Euclidean distance in query.\n",
    "\n",
    "All vectors are unique. You are given a query: a method of search (`annoy`|`kdtree`) and a vector which is exactly present in a dataset (3D integer vector). Print out the **index** of this vector in a `DATASET`.\n",
    "\n",
    "E.g. `input.txt`\n",
    "```\n",
    "annoy\n",
    "0 9997 9995\n",
    "```\n",
    "then `output.txt` will be:\n",
    "```\n",
    "0\n",
    "```\n",
    "\n",
    "Example of Annoy:"
   ]
  },
  {
   "cell_type": "code",
   "execution_count": 24,
   "metadata": {},
   "outputs": [
    {
     "name": "stdout",
     "output_type": "stream",
     "text": [
      "CPU times: user 687 ms, sys: 9.87 ms, total: 697 ms\n",
      "Wall time: 697 ms\n"
     ]
    }
   ],
   "source": [
    "%%time\n",
    "from annoy import AnnoyIndex\n",
    "from scipy.spatial import KDTree\n",
    "\n",
    "with open(\"input.txt\", \"r\") as f:\n",
    "    method = f.readline()\n",
    "    query = [int(num) for num in f.readline().split()]\n",
    "\n",
    "if method == \"annoy\":\n",
    "    # ANNOY INITIALIZATION\n",
    "    ann_ind = AnnoyIndex(3, \"euclidean\")\n",
    "    for i, v in enumerate(DATASET):\n",
    "        ann_ind.add_item(i, list(v)) \n",
    "    ann_ind.build(10)\n",
    "    index = ann_ind.get_nns_by_vector(query, 1)[0]\n",
    "else:\n",
    "    # KD-TREE INITIALIZATION\n",
    "    tree = KDTree(DATASET)\n",
    "    index = tree.query(query, 1, p=2)[1]\n",
    "    \n",
    "with open(\"output.txt\", \"w\") as f:\n",
    "    f.write(str(index))\n",
    "# ... for [0, 9997, 9995] returns 0 in 1.37s with index building"
   ]
  },
  {
   "cell_type": "code",
   "execution_count": 13,
   "metadata": {},
   "outputs": [
    {
     "name": "stdout",
     "output_type": "stream",
     "text": [
      "2\n"
     ]
    }
   ],
   "source": []
  },
  {
   "cell_type": "code",
   "execution_count": null,
   "metadata": {},
   "outputs": [],
   "source": []
  }
 ],
 "metadata": {
  "kernelspec": {
   "display_name": "Python 3",
   "language": "python",
   "name": "python3"
  },
  "language_info": {
   "codemirror_mode": {
    "name": "ipython",
    "version": 3
   },
   "file_extension": ".py",
   "mimetype": "text/x-python",
   "name": "python",
   "nbconvert_exporter": "python",
   "pygments_lexer": "ipython3",
   "version": "3.8.5"
  }
 },
 "nbformat": 4,
 "nbformat_minor": 4
}
